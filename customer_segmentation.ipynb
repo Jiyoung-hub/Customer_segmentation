{
 "cells": [
  {
   "cell_type": "markdown",
   "metadata": {},
   "source": [
    "## Read data"
   ]
  },
  {
   "cell_type": "code",
   "execution_count": 1,
   "metadata": {},
   "outputs": [],
   "source": [
    "import pandas as pd"
   ]
  },
  {
   "cell_type": "code",
   "execution_count": 2,
   "metadata": {},
   "outputs": [],
   "source": [
    "data = pd.read_csv('transactions_n100000.csv')"
   ]
  },
  {
   "cell_type": "code",
   "execution_count": 3,
   "metadata": {
    "scrolled": true
   },
   "outputs": [
    {
     "data": {
      "text/html": [
       "<div>\n",
       "<style scoped>\n",
       "    .dataframe tbody tr th:only-of-type {\n",
       "        vertical-align: middle;\n",
       "    }\n",
       "\n",
       "    .dataframe tbody tr th {\n",
       "        vertical-align: top;\n",
       "    }\n",
       "\n",
       "    .dataframe thead th {\n",
       "        text-align: right;\n",
       "    }\n",
       "</style>\n",
       "<table border=\"1\" class=\"dataframe\">\n",
       "  <thead>\n",
       "    <tr style=\"text-align: right;\">\n",
       "      <th></th>\n",
       "      <th>ticket_id</th>\n",
       "      <th>order_timestamp</th>\n",
       "      <th>location</th>\n",
       "      <th>item_name</th>\n",
       "      <th>item_count</th>\n",
       "      <th>lat</th>\n",
       "      <th>long</th>\n",
       "    </tr>\n",
       "  </thead>\n",
       "  <tbody>\n",
       "    <tr>\n",
       "      <th>0</th>\n",
       "      <td>0x7901ee</td>\n",
       "      <td>2019-01-16 18:33:00</td>\n",
       "      <td>7</td>\n",
       "      <td>shake</td>\n",
       "      <td>2</td>\n",
       "      <td>41.794132</td>\n",
       "      <td>-88.010140</td>\n",
       "    </tr>\n",
       "    <tr>\n",
       "      <th>1</th>\n",
       "      <td>0x7901ee</td>\n",
       "      <td>2019-01-16 18:33:00</td>\n",
       "      <td>7</td>\n",
       "      <td>burger</td>\n",
       "      <td>2</td>\n",
       "      <td>41.794132</td>\n",
       "      <td>-88.010140</td>\n",
       "    </tr>\n",
       "    <tr>\n",
       "      <th>2</th>\n",
       "      <td>0x7901ee</td>\n",
       "      <td>2019-01-16 18:33:00</td>\n",
       "      <td>7</td>\n",
       "      <td>fries</td>\n",
       "      <td>2</td>\n",
       "      <td>41.794132</td>\n",
       "      <td>-88.010140</td>\n",
       "    </tr>\n",
       "    <tr>\n",
       "      <th>3</th>\n",
       "      <td>0x12b47f</td>\n",
       "      <td>2019-09-04 12:36:00</td>\n",
       "      <td>3</td>\n",
       "      <td>salad</td>\n",
       "      <td>1</td>\n",
       "      <td>41.884490</td>\n",
       "      <td>-87.627059</td>\n",
       "    </tr>\n",
       "    <tr>\n",
       "      <th>4</th>\n",
       "      <td>0x12b47f</td>\n",
       "      <td>2019-09-04 12:36:00</td>\n",
       "      <td>3</td>\n",
       "      <td>fries</td>\n",
       "      <td>1</td>\n",
       "      <td>41.884490</td>\n",
       "      <td>-87.627059</td>\n",
       "    </tr>\n",
       "  </tbody>\n",
       "</table>\n",
       "</div>"
      ],
      "text/plain": [
       "  ticket_id      order_timestamp  location item_name  item_count        lat  \\\n",
       "0  0x7901ee  2019-01-16 18:33:00         7     shake           2  41.794132   \n",
       "1  0x7901ee  2019-01-16 18:33:00         7    burger           2  41.794132   \n",
       "2  0x7901ee  2019-01-16 18:33:00         7     fries           2  41.794132   \n",
       "3  0x12b47f  2019-09-04 12:36:00         3     salad           1  41.884490   \n",
       "4  0x12b47f  2019-09-04 12:36:00         3     fries           1  41.884490   \n",
       "\n",
       "        long  \n",
       "0 -88.010140  \n",
       "1 -88.010140  \n",
       "2 -88.010140  \n",
       "3 -87.627059  \n",
       "4 -87.627059  "
      ]
     },
     "execution_count": 3,
     "metadata": {},
     "output_type": "execute_result"
    }
   ],
   "source": [
    "data.head()"
   ]
  },
  {
   "cell_type": "markdown",
   "metadata": {},
   "source": [
    "## Data preprocessing"
   ]
  },
  {
   "cell_type": "code",
   "execution_count": 4,
   "metadata": {},
   "outputs": [
    {
     "data": {
      "text/html": [
       "<div>\n",
       "<style scoped>\n",
       "    .dataframe tbody tr th:only-of-type {\n",
       "        vertical-align: middle;\n",
       "    }\n",
       "\n",
       "    .dataframe tbody tr th {\n",
       "        vertical-align: top;\n",
       "    }\n",
       "\n",
       "    .dataframe thead th {\n",
       "        text-align: right;\n",
       "    }\n",
       "</style>\n",
       "<table border=\"1\" class=\"dataframe\">\n",
       "  <thead>\n",
       "    <tr style=\"text-align: right;\">\n",
       "      <th></th>\n",
       "      <th>ticket_id</th>\n",
       "      <th>order_timestamp</th>\n",
       "      <th>location</th>\n",
       "      <th>item_name</th>\n",
       "      <th>item_count</th>\n",
       "      <th>lat</th>\n",
       "      <th>long</th>\n",
       "    </tr>\n",
       "  </thead>\n",
       "  <tbody>\n",
       "    <tr>\n",
       "      <th>0</th>\n",
       "      <td>0x7901ee</td>\n",
       "      <td>2019-01-16 18:33:00</td>\n",
       "      <td>7</td>\n",
       "      <td>shake</td>\n",
       "      <td>2</td>\n",
       "      <td>41.794132</td>\n",
       "      <td>-88.010140</td>\n",
       "    </tr>\n",
       "    <tr>\n",
       "      <th>3</th>\n",
       "      <td>0x12b47f</td>\n",
       "      <td>2019-09-04 12:36:00</td>\n",
       "      <td>3</td>\n",
       "      <td>salad</td>\n",
       "      <td>1</td>\n",
       "      <td>41.884490</td>\n",
       "      <td>-87.627059</td>\n",
       "    </tr>\n",
       "    <tr>\n",
       "      <th>5</th>\n",
       "      <td>0x6d6979</td>\n",
       "      <td>2019-03-18 00:27:00</td>\n",
       "      <td>6</td>\n",
       "      <td>burger</td>\n",
       "      <td>2</td>\n",
       "      <td>41.784576</td>\n",
       "      <td>-87.607565</td>\n",
       "    </tr>\n",
       "    <tr>\n",
       "      <th>7</th>\n",
       "      <td>0x78dd1e</td>\n",
       "      <td>2019-09-22 00:10:00</td>\n",
       "      <td>2</td>\n",
       "      <td>shake</td>\n",
       "      <td>2</td>\n",
       "      <td>42.049306</td>\n",
       "      <td>-87.677606</td>\n",
       "    </tr>\n",
       "    <tr>\n",
       "      <th>10</th>\n",
       "      <td>0x4df8ab</td>\n",
       "      <td>2019-01-17 11:35:00</td>\n",
       "      <td>8</td>\n",
       "      <td>salad</td>\n",
       "      <td>3</td>\n",
       "      <td>41.894202</td>\n",
       "      <td>-87.620965</td>\n",
       "    </tr>\n",
       "  </tbody>\n",
       "</table>\n",
       "</div>"
      ],
      "text/plain": [
       "   ticket_id      order_timestamp  location item_name  item_count        lat  \\\n",
       "0   0x7901ee  2019-01-16 18:33:00         7     shake           2  41.794132   \n",
       "3   0x12b47f  2019-09-04 12:36:00         3     salad           1  41.884490   \n",
       "5   0x6d6979  2019-03-18 00:27:00         6    burger           2  41.784576   \n",
       "7   0x78dd1e  2019-09-22 00:10:00         2     shake           2  42.049306   \n",
       "10  0x4df8ab  2019-01-17 11:35:00         8     salad           3  41.894202   \n",
       "\n",
       "         long  \n",
       "0  -88.010140  \n",
       "3  -87.627059  \n",
       "5  -87.607565  \n",
       "7  -87.677606  \n",
       "10 -87.620965  "
      ]
     },
     "execution_count": 4,
     "metadata": {},
     "output_type": "execute_result"
    }
   ],
   "source": [
    "# deleting duplicates\n",
    "df = data.drop_duplicates(subset=\"ticket_id\")\n",
    "df.head()"
   ]
  },
  {
   "cell_type": "code",
   "execution_count": 5,
   "metadata": {},
   "outputs": [],
   "source": [
    "# create a pivot table for items\n",
    "items = pd.pivot_table(data, index='ticket_id', columns='item_name', values='item_count').fillna(0)\n",
    "df = df.merge(items, on=['ticket_id','ticket_id'])"
   ]
  },
  {
   "cell_type": "code",
   "execution_count": 6,
   "metadata": {
    "scrolled": false
   },
   "outputs": [
    {
     "data": {
      "text/html": [
       "<div>\n",
       "<style scoped>\n",
       "    .dataframe tbody tr th:only-of-type {\n",
       "        vertical-align: middle;\n",
       "    }\n",
       "\n",
       "    .dataframe tbody tr th {\n",
       "        vertical-align: top;\n",
       "    }\n",
       "\n",
       "    .dataframe thead th {\n",
       "        text-align: right;\n",
       "    }\n",
       "</style>\n",
       "<table border=\"1\" class=\"dataframe\">\n",
       "  <thead>\n",
       "    <tr style=\"text-align: right;\">\n",
       "      <th></th>\n",
       "      <th>ticket_id</th>\n",
       "      <th>order_timestamp</th>\n",
       "      <th>location</th>\n",
       "      <th>item_name</th>\n",
       "      <th>item_count</th>\n",
       "      <th>lat</th>\n",
       "      <th>long</th>\n",
       "      <th>burger</th>\n",
       "      <th>fries</th>\n",
       "      <th>salad</th>\n",
       "      <th>shake</th>\n",
       "    </tr>\n",
       "  </thead>\n",
       "  <tbody>\n",
       "    <tr>\n",
       "      <th>0</th>\n",
       "      <td>0x7901ee</td>\n",
       "      <td>2019-01-16 18:33:00</td>\n",
       "      <td>7</td>\n",
       "      <td>shake</td>\n",
       "      <td>2</td>\n",
       "      <td>41.794132</td>\n",
       "      <td>-88.010140</td>\n",
       "      <td>2.0</td>\n",
       "      <td>2.0</td>\n",
       "      <td>0.0</td>\n",
       "      <td>2.0</td>\n",
       "    </tr>\n",
       "    <tr>\n",
       "      <th>1</th>\n",
       "      <td>0x12b47f</td>\n",
       "      <td>2019-09-04 12:36:00</td>\n",
       "      <td>3</td>\n",
       "      <td>salad</td>\n",
       "      <td>1</td>\n",
       "      <td>41.884490</td>\n",
       "      <td>-87.627059</td>\n",
       "      <td>0.0</td>\n",
       "      <td>1.0</td>\n",
       "      <td>1.0</td>\n",
       "      <td>0.0</td>\n",
       "    </tr>\n",
       "    <tr>\n",
       "      <th>2</th>\n",
       "      <td>0x6d6979</td>\n",
       "      <td>2019-03-18 00:27:00</td>\n",
       "      <td>6</td>\n",
       "      <td>burger</td>\n",
       "      <td>2</td>\n",
       "      <td>41.784576</td>\n",
       "      <td>-87.607565</td>\n",
       "      <td>2.0</td>\n",
       "      <td>2.0</td>\n",
       "      <td>0.0</td>\n",
       "      <td>0.0</td>\n",
       "    </tr>\n",
       "    <tr>\n",
       "      <th>3</th>\n",
       "      <td>0x78dd1e</td>\n",
       "      <td>2019-09-22 00:10:00</td>\n",
       "      <td>2</td>\n",
       "      <td>shake</td>\n",
       "      <td>2</td>\n",
       "      <td>42.049306</td>\n",
       "      <td>-87.677606</td>\n",
       "      <td>2.0</td>\n",
       "      <td>2.0</td>\n",
       "      <td>0.0</td>\n",
       "      <td>2.0</td>\n",
       "    </tr>\n",
       "    <tr>\n",
       "      <th>4</th>\n",
       "      <td>0x4df8ab</td>\n",
       "      <td>2019-01-17 11:35:00</td>\n",
       "      <td>8</td>\n",
       "      <td>salad</td>\n",
       "      <td>3</td>\n",
       "      <td>41.894202</td>\n",
       "      <td>-87.620965</td>\n",
       "      <td>0.0</td>\n",
       "      <td>3.0</td>\n",
       "      <td>3.0</td>\n",
       "      <td>0.0</td>\n",
       "    </tr>\n",
       "  </tbody>\n",
       "</table>\n",
       "</div>"
      ],
      "text/plain": [
       "  ticket_id      order_timestamp  location item_name  item_count        lat  \\\n",
       "0  0x7901ee  2019-01-16 18:33:00         7     shake           2  41.794132   \n",
       "1  0x12b47f  2019-09-04 12:36:00         3     salad           1  41.884490   \n",
       "2  0x6d6979  2019-03-18 00:27:00         6    burger           2  41.784576   \n",
       "3  0x78dd1e  2019-09-22 00:10:00         2     shake           2  42.049306   \n",
       "4  0x4df8ab  2019-01-17 11:35:00         8     salad           3  41.894202   \n",
       "\n",
       "        long  burger  fries  salad  shake  \n",
       "0 -88.010140     2.0    2.0    0.0    2.0  \n",
       "1 -87.627059     0.0    1.0    1.0    0.0  \n",
       "2 -87.607565     2.0    2.0    0.0    0.0  \n",
       "3 -87.677606     2.0    2.0    0.0    2.0  \n",
       "4 -87.620965     0.0    3.0    3.0    0.0  "
      ]
     },
     "execution_count": 6,
     "metadata": {},
     "output_type": "execute_result"
    }
   ],
   "source": [
    "df.head()"
   ]
  },
  {
   "cell_type": "code",
   "execution_count": 7,
   "metadata": {},
   "outputs": [],
   "source": [
    "# converting order_timestamp to 'datetime' type\n",
    "from datetime import datetime\n",
    "df['date'] = df['order_timestamp'].apply(lambda row: datetime.strptime(str(row), '%Y-%m-%d %H:%M:%S'))"
   ]
  },
  {
   "cell_type": "code",
   "execution_count": 8,
   "metadata": {},
   "outputs": [
    {
     "data": {
      "text/html": [
       "<div>\n",
       "<style scoped>\n",
       "    .dataframe tbody tr th:only-of-type {\n",
       "        vertical-align: middle;\n",
       "    }\n",
       "\n",
       "    .dataframe tbody tr th {\n",
       "        vertical-align: top;\n",
       "    }\n",
       "\n",
       "    .dataframe thead th {\n",
       "        text-align: right;\n",
       "    }\n",
       "</style>\n",
       "<table border=\"1\" class=\"dataframe\">\n",
       "  <thead>\n",
       "    <tr style=\"text-align: right;\">\n",
       "      <th></th>\n",
       "      <th>ticket_id</th>\n",
       "      <th>location</th>\n",
       "      <th>lat</th>\n",
       "      <th>long</th>\n",
       "      <th>burger</th>\n",
       "      <th>fries</th>\n",
       "      <th>salad</th>\n",
       "      <th>shake</th>\n",
       "      <th>date</th>\n",
       "    </tr>\n",
       "  </thead>\n",
       "  <tbody>\n",
       "    <tr>\n",
       "      <th>0</th>\n",
       "      <td>0x7901ee</td>\n",
       "      <td>7</td>\n",
       "      <td>41.794132</td>\n",
       "      <td>-88.010140</td>\n",
       "      <td>2.0</td>\n",
       "      <td>2.0</td>\n",
       "      <td>0.0</td>\n",
       "      <td>2.0</td>\n",
       "      <td>2019-01-16 18:33:00</td>\n",
       "    </tr>\n",
       "    <tr>\n",
       "      <th>1</th>\n",
       "      <td>0x12b47f</td>\n",
       "      <td>3</td>\n",
       "      <td>41.884490</td>\n",
       "      <td>-87.627059</td>\n",
       "      <td>0.0</td>\n",
       "      <td>1.0</td>\n",
       "      <td>1.0</td>\n",
       "      <td>0.0</td>\n",
       "      <td>2019-09-04 12:36:00</td>\n",
       "    </tr>\n",
       "    <tr>\n",
       "      <th>2</th>\n",
       "      <td>0x6d6979</td>\n",
       "      <td>6</td>\n",
       "      <td>41.784576</td>\n",
       "      <td>-87.607565</td>\n",
       "      <td>2.0</td>\n",
       "      <td>2.0</td>\n",
       "      <td>0.0</td>\n",
       "      <td>0.0</td>\n",
       "      <td>2019-03-18 00:27:00</td>\n",
       "    </tr>\n",
       "    <tr>\n",
       "      <th>3</th>\n",
       "      <td>0x78dd1e</td>\n",
       "      <td>2</td>\n",
       "      <td>42.049306</td>\n",
       "      <td>-87.677606</td>\n",
       "      <td>2.0</td>\n",
       "      <td>2.0</td>\n",
       "      <td>0.0</td>\n",
       "      <td>2.0</td>\n",
       "      <td>2019-09-22 00:10:00</td>\n",
       "    </tr>\n",
       "    <tr>\n",
       "      <th>4</th>\n",
       "      <td>0x4df8ab</td>\n",
       "      <td>8</td>\n",
       "      <td>41.894202</td>\n",
       "      <td>-87.620965</td>\n",
       "      <td>0.0</td>\n",
       "      <td>3.0</td>\n",
       "      <td>3.0</td>\n",
       "      <td>0.0</td>\n",
       "      <td>2019-01-17 11:35:00</td>\n",
       "    </tr>\n",
       "  </tbody>\n",
       "</table>\n",
       "</div>"
      ],
      "text/plain": [
       "  ticket_id  location        lat       long  burger  fries  salad  shake  \\\n",
       "0  0x7901ee         7  41.794132 -88.010140     2.0    2.0    0.0    2.0   \n",
       "1  0x12b47f         3  41.884490 -87.627059     0.0    1.0    1.0    0.0   \n",
       "2  0x6d6979         6  41.784576 -87.607565     2.0    2.0    0.0    0.0   \n",
       "3  0x78dd1e         2  42.049306 -87.677606     2.0    2.0    0.0    2.0   \n",
       "4  0x4df8ab         8  41.894202 -87.620965     0.0    3.0    3.0    0.0   \n",
       "\n",
       "                 date  \n",
       "0 2019-01-16 18:33:00  \n",
       "1 2019-09-04 12:36:00  \n",
       "2 2019-03-18 00:27:00  \n",
       "3 2019-09-22 00:10:00  \n",
       "4 2019-01-17 11:35:00  "
      ]
     },
     "execution_count": 8,
     "metadata": {},
     "output_type": "execute_result"
    }
   ],
   "source": [
    "df = df.drop(columns = ['order_timestamp','item_name','item_count'])\n",
    "df.head()"
   ]
  },
  {
   "cell_type": "code",
   "execution_count": 9,
   "metadata": {},
   "outputs": [],
   "source": [
    "import calendar\n",
    "df['weekday'] =  [calendar.day_name[x.weekday()] for x in df['date']]\n",
    "df['hour'] = df['date'].dt.hour"
   ]
  },
  {
   "cell_type": "code",
   "execution_count": 10,
   "metadata": {},
   "outputs": [],
   "source": [
    "def time_of_day(row):\n",
    "    if 7 < row['hour'] < 12:\n",
    "        return 'Morning'\n",
    "    elif 12 <= row['hour'] < 18:\n",
    "        return  'Afternoon'\n",
    "    elif 18 <= row['hour'] <= 20:\n",
    "        return 'Dinner'\n",
    "    elif 20 < row['hour'] <= 23:\n",
    "        return 'Late-night'\n",
    "    elif 0 <= row['hour'] <= 6:\n",
    "        return 'Late-night'\n",
    "\n",
    "df['time_of_day'] =  df.apply(lambda row: time_of_day(row), axis=1)"
   ]
  },
  {
   "cell_type": "code",
   "execution_count": 11,
   "metadata": {
    "scrolled": false
   },
   "outputs": [
    {
     "data": {
      "text/plain": [
       "Afternoon     34472\n",
       "Late-night    34210\n",
       "Dinner        23190\n",
       "Morning        8128\n",
       "Name: time_of_day, dtype: int64"
      ]
     },
     "execution_count": 11,
     "metadata": {},
     "output_type": "execute_result"
    }
   ],
   "source": [
    "df['time_of_day'].value_counts()"
   ]
  },
  {
   "cell_type": "code",
   "execution_count": 12,
   "metadata": {},
   "outputs": [
    {
     "data": {
      "text/html": [
       "<div>\n",
       "<style scoped>\n",
       "    .dataframe tbody tr th:only-of-type {\n",
       "        vertical-align: middle;\n",
       "    }\n",
       "\n",
       "    .dataframe tbody tr th {\n",
       "        vertical-align: top;\n",
       "    }\n",
       "\n",
       "    .dataframe thead th {\n",
       "        text-align: right;\n",
       "    }\n",
       "</style>\n",
       "<table border=\"1\" class=\"dataframe\">\n",
       "  <thead>\n",
       "    <tr style=\"text-align: right;\">\n",
       "      <th></th>\n",
       "      <th>ticket_id</th>\n",
       "      <th>location</th>\n",
       "      <th>burger</th>\n",
       "      <th>fries</th>\n",
       "      <th>salad</th>\n",
       "      <th>shake</th>\n",
       "      <th>weekday</th>\n",
       "      <th>time_of_day</th>\n",
       "    </tr>\n",
       "  </thead>\n",
       "  <tbody>\n",
       "    <tr>\n",
       "      <th>0</th>\n",
       "      <td>0x7901ee</td>\n",
       "      <td>7</td>\n",
       "      <td>2.0</td>\n",
       "      <td>2.0</td>\n",
       "      <td>0.0</td>\n",
       "      <td>2.0</td>\n",
       "      <td>Wednesday</td>\n",
       "      <td>Dinner</td>\n",
       "    </tr>\n",
       "    <tr>\n",
       "      <th>1</th>\n",
       "      <td>0x12b47f</td>\n",
       "      <td>3</td>\n",
       "      <td>0.0</td>\n",
       "      <td>1.0</td>\n",
       "      <td>1.0</td>\n",
       "      <td>0.0</td>\n",
       "      <td>Wednesday</td>\n",
       "      <td>Afternoon</td>\n",
       "    </tr>\n",
       "    <tr>\n",
       "      <th>2</th>\n",
       "      <td>0x6d6979</td>\n",
       "      <td>6</td>\n",
       "      <td>2.0</td>\n",
       "      <td>2.0</td>\n",
       "      <td>0.0</td>\n",
       "      <td>0.0</td>\n",
       "      <td>Monday</td>\n",
       "      <td>Late-night</td>\n",
       "    </tr>\n",
       "    <tr>\n",
       "      <th>3</th>\n",
       "      <td>0x78dd1e</td>\n",
       "      <td>2</td>\n",
       "      <td>2.0</td>\n",
       "      <td>2.0</td>\n",
       "      <td>0.0</td>\n",
       "      <td>2.0</td>\n",
       "      <td>Sunday</td>\n",
       "      <td>Late-night</td>\n",
       "    </tr>\n",
       "    <tr>\n",
       "      <th>4</th>\n",
       "      <td>0x4df8ab</td>\n",
       "      <td>8</td>\n",
       "      <td>0.0</td>\n",
       "      <td>3.0</td>\n",
       "      <td>3.0</td>\n",
       "      <td>0.0</td>\n",
       "      <td>Thursday</td>\n",
       "      <td>Morning</td>\n",
       "    </tr>\n",
       "  </tbody>\n",
       "</table>\n",
       "</div>"
      ],
      "text/plain": [
       "  ticket_id  location  burger  fries  salad  shake    weekday time_of_day\n",
       "0  0x7901ee         7     2.0    2.0    0.0    2.0  Wednesday      Dinner\n",
       "1  0x12b47f         3     0.0    1.0    1.0    0.0  Wednesday   Afternoon\n",
       "2  0x6d6979         6     2.0    2.0    0.0    0.0     Monday  Late-night\n",
       "3  0x78dd1e         2     2.0    2.0    0.0    2.0     Sunday  Late-night\n",
       "4  0x4df8ab         8     0.0    3.0    3.0    0.0   Thursday     Morning"
      ]
     },
     "execution_count": 12,
     "metadata": {},
     "output_type": "execute_result"
    }
   ],
   "source": [
    "df = df.drop(columns = ['date','hour','lat','long'])\n",
    "df.head()"
   ]
  },
  {
   "cell_type": "code",
   "execution_count": 13,
   "metadata": {},
   "outputs": [],
   "source": [
    "df['location'] = df['location'].astype('category')\n",
    "cat = ['location', 'weekday', 'time_of_day']\n",
    "num = ['burger','fries','salad','shake']\n",
    "X_cat = df[cat] \n",
    "\n",
    "# Creating dummy variable dataframe from categorical variables.\n",
    "data_X = pd.get_dummies(X_cat)\n",
    "data_X = df[num].join(data_X)\n",
    "data_X = data_X.set_index(df['ticket_id'])"
   ]
  },
  {
   "cell_type": "code",
   "execution_count": 14,
   "metadata": {
    "scrolled": false
   },
   "outputs": [
    {
     "data": {
      "text/html": [
       "<div>\n",
       "<style scoped>\n",
       "    .dataframe tbody tr th:only-of-type {\n",
       "        vertical-align: middle;\n",
       "    }\n",
       "\n",
       "    .dataframe tbody tr th {\n",
       "        vertical-align: top;\n",
       "    }\n",
       "\n",
       "    .dataframe thead th {\n",
       "        text-align: right;\n",
       "    }\n",
       "</style>\n",
       "<table border=\"1\" class=\"dataframe\">\n",
       "  <thead>\n",
       "    <tr style=\"text-align: right;\">\n",
       "      <th></th>\n",
       "      <th>burger</th>\n",
       "      <th>fries</th>\n",
       "      <th>salad</th>\n",
       "      <th>shake</th>\n",
       "      <th>location_1</th>\n",
       "      <th>location_2</th>\n",
       "      <th>location_3</th>\n",
       "      <th>location_4</th>\n",
       "      <th>location_5</th>\n",
       "      <th>location_6</th>\n",
       "      <th>...</th>\n",
       "      <th>weekday_Monday</th>\n",
       "      <th>weekday_Saturday</th>\n",
       "      <th>weekday_Sunday</th>\n",
       "      <th>weekday_Thursday</th>\n",
       "      <th>weekday_Tuesday</th>\n",
       "      <th>weekday_Wednesday</th>\n",
       "      <th>time_of_day_Afternoon</th>\n",
       "      <th>time_of_day_Dinner</th>\n",
       "      <th>time_of_day_Late-night</th>\n",
       "      <th>time_of_day_Morning</th>\n",
       "    </tr>\n",
       "    <tr>\n",
       "      <th>ticket_id</th>\n",
       "      <th></th>\n",
       "      <th></th>\n",
       "      <th></th>\n",
       "      <th></th>\n",
       "      <th></th>\n",
       "      <th></th>\n",
       "      <th></th>\n",
       "      <th></th>\n",
       "      <th></th>\n",
       "      <th></th>\n",
       "      <th></th>\n",
       "      <th></th>\n",
       "      <th></th>\n",
       "      <th></th>\n",
       "      <th></th>\n",
       "      <th></th>\n",
       "      <th></th>\n",
       "      <th></th>\n",
       "      <th></th>\n",
       "      <th></th>\n",
       "      <th></th>\n",
       "    </tr>\n",
       "  </thead>\n",
       "  <tbody>\n",
       "    <tr>\n",
       "      <th>0x7901ee</th>\n",
       "      <td>2.0</td>\n",
       "      <td>2.0</td>\n",
       "      <td>0.0</td>\n",
       "      <td>2.0</td>\n",
       "      <td>0</td>\n",
       "      <td>0</td>\n",
       "      <td>0</td>\n",
       "      <td>0</td>\n",
       "      <td>0</td>\n",
       "      <td>0</td>\n",
       "      <td>...</td>\n",
       "      <td>0</td>\n",
       "      <td>0</td>\n",
       "      <td>0</td>\n",
       "      <td>0</td>\n",
       "      <td>0</td>\n",
       "      <td>1</td>\n",
       "      <td>0</td>\n",
       "      <td>1</td>\n",
       "      <td>0</td>\n",
       "      <td>0</td>\n",
       "    </tr>\n",
       "    <tr>\n",
       "      <th>0x12b47f</th>\n",
       "      <td>0.0</td>\n",
       "      <td>1.0</td>\n",
       "      <td>1.0</td>\n",
       "      <td>0.0</td>\n",
       "      <td>0</td>\n",
       "      <td>0</td>\n",
       "      <td>1</td>\n",
       "      <td>0</td>\n",
       "      <td>0</td>\n",
       "      <td>0</td>\n",
       "      <td>...</td>\n",
       "      <td>0</td>\n",
       "      <td>0</td>\n",
       "      <td>0</td>\n",
       "      <td>0</td>\n",
       "      <td>0</td>\n",
       "      <td>1</td>\n",
       "      <td>1</td>\n",
       "      <td>0</td>\n",
       "      <td>0</td>\n",
       "      <td>0</td>\n",
       "    </tr>\n",
       "    <tr>\n",
       "      <th>0x6d6979</th>\n",
       "      <td>2.0</td>\n",
       "      <td>2.0</td>\n",
       "      <td>0.0</td>\n",
       "      <td>0.0</td>\n",
       "      <td>0</td>\n",
       "      <td>0</td>\n",
       "      <td>0</td>\n",
       "      <td>0</td>\n",
       "      <td>0</td>\n",
       "      <td>1</td>\n",
       "      <td>...</td>\n",
       "      <td>1</td>\n",
       "      <td>0</td>\n",
       "      <td>0</td>\n",
       "      <td>0</td>\n",
       "      <td>0</td>\n",
       "      <td>0</td>\n",
       "      <td>0</td>\n",
       "      <td>0</td>\n",
       "      <td>1</td>\n",
       "      <td>0</td>\n",
       "    </tr>\n",
       "    <tr>\n",
       "      <th>0x78dd1e</th>\n",
       "      <td>2.0</td>\n",
       "      <td>2.0</td>\n",
       "      <td>0.0</td>\n",
       "      <td>2.0</td>\n",
       "      <td>0</td>\n",
       "      <td>1</td>\n",
       "      <td>0</td>\n",
       "      <td>0</td>\n",
       "      <td>0</td>\n",
       "      <td>0</td>\n",
       "      <td>...</td>\n",
       "      <td>0</td>\n",
       "      <td>0</td>\n",
       "      <td>1</td>\n",
       "      <td>0</td>\n",
       "      <td>0</td>\n",
       "      <td>0</td>\n",
       "      <td>0</td>\n",
       "      <td>0</td>\n",
       "      <td>1</td>\n",
       "      <td>0</td>\n",
       "    </tr>\n",
       "    <tr>\n",
       "      <th>0x4df8ab</th>\n",
       "      <td>0.0</td>\n",
       "      <td>3.0</td>\n",
       "      <td>3.0</td>\n",
       "      <td>0.0</td>\n",
       "      <td>0</td>\n",
       "      <td>0</td>\n",
       "      <td>0</td>\n",
       "      <td>0</td>\n",
       "      <td>0</td>\n",
       "      <td>0</td>\n",
       "      <td>...</td>\n",
       "      <td>0</td>\n",
       "      <td>0</td>\n",
       "      <td>0</td>\n",
       "      <td>1</td>\n",
       "      <td>0</td>\n",
       "      <td>0</td>\n",
       "      <td>0</td>\n",
       "      <td>0</td>\n",
       "      <td>0</td>\n",
       "      <td>1</td>\n",
       "    </tr>\n",
       "  </tbody>\n",
       "</table>\n",
       "<p>5 rows × 24 columns</p>\n",
       "</div>"
      ],
      "text/plain": [
       "           burger  fries  salad  shake  location_1  location_2  location_3  \\\n",
       "ticket_id                                                                    \n",
       "0x7901ee      2.0    2.0    0.0    2.0           0           0           0   \n",
       "0x12b47f      0.0    1.0    1.0    0.0           0           0           1   \n",
       "0x6d6979      2.0    2.0    0.0    0.0           0           0           0   \n",
       "0x78dd1e      2.0    2.0    0.0    2.0           0           1           0   \n",
       "0x4df8ab      0.0    3.0    3.0    0.0           0           0           0   \n",
       "\n",
       "           location_4  location_5  location_6  ...  weekday_Monday  \\\n",
       "ticket_id                                      ...                   \n",
       "0x7901ee            0           0           0  ...               0   \n",
       "0x12b47f            0           0           0  ...               0   \n",
       "0x6d6979            0           0           1  ...               1   \n",
       "0x78dd1e            0           0           0  ...               0   \n",
       "0x4df8ab            0           0           0  ...               0   \n",
       "\n",
       "           weekday_Saturday  weekday_Sunday  weekday_Thursday  \\\n",
       "ticket_id                                                       \n",
       "0x7901ee                  0               0                 0   \n",
       "0x12b47f                  0               0                 0   \n",
       "0x6d6979                  0               0                 0   \n",
       "0x78dd1e                  0               1                 0   \n",
       "0x4df8ab                  0               0                 1   \n",
       "\n",
       "           weekday_Tuesday  weekday_Wednesday  time_of_day_Afternoon  \\\n",
       "ticket_id                                                              \n",
       "0x7901ee                 0                  1                      0   \n",
       "0x12b47f                 0                  1                      1   \n",
       "0x6d6979                 0                  0                      0   \n",
       "0x78dd1e                 0                  0                      0   \n",
       "0x4df8ab                 0                  0                      0   \n",
       "\n",
       "           time_of_day_Dinner  time_of_day_Late-night  time_of_day_Morning  \n",
       "ticket_id                                                                   \n",
       "0x7901ee                    1                       0                    0  \n",
       "0x12b47f                    0                       0                    0  \n",
       "0x6d6979                    0                       1                    0  \n",
       "0x78dd1e                    0                       1                    0  \n",
       "0x4df8ab                    0                       0                    1  \n",
       "\n",
       "[5 rows x 24 columns]"
      ]
     },
     "execution_count": 14,
     "metadata": {},
     "output_type": "execute_result"
    }
   ],
   "source": [
    "data_X.head()"
   ]
  },
  {
   "cell_type": "markdown",
   "metadata": {},
   "source": [
    "## Split the data (train-test) & Scaling"
   ]
  },
  {
   "cell_type": "code",
   "execution_count": 16,
   "metadata": {},
   "outputs": [],
   "source": [
    "# split the data\n",
    "from sklearn import model_selection\n",
    "train,test = model_selection.train_test_split(data_X, test_size=0.3, random_state = 0)"
   ]
  },
  {
   "cell_type": "code",
   "execution_count": 17,
   "metadata": {},
   "outputs": [],
   "source": [
    "# scaling\n",
    "from sklearn.preprocessing import MinMaxScaler\n",
    "minmax = MinMaxScaler()\n",
    "train_scaled = minmax.fit_transform(train)\n",
    "test_scaled = minmax.fit_transform(test)"
   ]
  },
  {
   "cell_type": "code",
   "execution_count": 18,
   "metadata": {},
   "outputs": [],
   "source": [
    "train_scaled = pd.DataFrame(train_scaled, columns = train.columns,index= train.index)\n",
    "test_scaled = pd.DataFrame(test_scaled,columns = test.columns,index= test.index)"
   ]
  },
  {
   "cell_type": "markdown",
   "metadata": {},
   "source": [
    "## Kproto Clustering"
   ]
  },
  {
   "cell_type": "code",
   "execution_count": 19,
   "metadata": {},
   "outputs": [],
   "source": [
    "import numpy as np\n",
    "from kmodes.kprototypes import KPrototypes\n",
    "kproto = KPrototypes(n_clusters=3, init='Cao')\n",
    "clusters = kproto.fit_predict(train_scaled, categorical=[4,5,6,7,8,9,10,11,12,13,14,15,16,17,18,19,20,21,22,23])"
   ]
  },
  {
   "cell_type": "code",
   "execution_count": 20,
   "metadata": {
    "scrolled": false
   },
   "outputs": [
    {
     "data": {
      "text/plain": [
       "34968.14908630638"
      ]
     },
     "execution_count": 20,
     "metadata": {},
     "output_type": "execute_result"
    }
   ],
   "source": [
    "kproto.cost_"
   ]
  },
  {
   "cell_type": "code",
   "execution_count": 21,
   "metadata": {},
   "outputs": [],
   "source": [
    "clusters_t = kproto.predict(test_scaled, categorical=[4,5,6,7,8,9,10,11,12,13,14,15,16,17,18,19,20,21,22,23])"
   ]
  },
  {
   "cell_type": "markdown",
   "metadata": {},
   "source": [
    "## Validation"
   ]
  },
  {
   "cell_type": "code",
   "execution_count": 22,
   "metadata": {
    "scrolled": true
   },
   "outputs": [
    {
     "data": {
      "text/plain": [
       "1    0.355114\n",
       "2    0.340529\n",
       "0    0.304357\n",
       "Name: cluster_id, dtype: float64"
      ]
     },
     "execution_count": 22,
     "metadata": {},
     "output_type": "execute_result"
    }
   ],
   "source": [
    "train_with_id = train.copy()\n",
    "train_with_id['cluster_id'] = clusters\n",
    "train_with_id.cluster_id.value_counts() / len(train)"
   ]
  },
  {
   "cell_type": "code",
   "execution_count": 23,
   "metadata": {},
   "outputs": [
    {
     "data": {
      "text/plain": [
       "1    0.351233\n",
       "2    0.339867\n",
       "0    0.308900\n",
       "Name: cluster_id, dtype: float64"
      ]
     },
     "execution_count": 23,
     "metadata": {},
     "output_type": "execute_result"
    }
   ],
   "source": [
    "test_with_id = test.copy()\n",
    "test_with_id['cluster_id'] = clusters_t\n",
    "test_with_id.cluster_id.value_counts() / len(test)"
   ]
  },
  {
   "cell_type": "markdown",
   "metadata": {},
   "source": [
    "## Interpretation of the clusters "
   ]
  },
  {
   "cell_type": "code",
   "execution_count": 24,
   "metadata": {
    "scrolled": true
   },
   "outputs": [
    {
     "data": {
      "text/html": [
       "<div>\n",
       "<style scoped>\n",
       "    .dataframe tbody tr th:only-of-type {\n",
       "        vertical-align: middle;\n",
       "    }\n",
       "\n",
       "    .dataframe tbody tr th {\n",
       "        vertical-align: top;\n",
       "    }\n",
       "\n",
       "    .dataframe thead th {\n",
       "        text-align: right;\n",
       "    }\n",
       "</style>\n",
       "<table border=\"1\" class=\"dataframe\">\n",
       "  <thead>\n",
       "    <tr style=\"text-align: right;\">\n",
       "      <th></th>\n",
       "      <th>weekday_Friday</th>\n",
       "      <th>weekday_Monday</th>\n",
       "      <th>weekday_Saturday</th>\n",
       "      <th>weekday_Sunday</th>\n",
       "      <th>weekday_Thursday</th>\n",
       "      <th>weekday_Tuesday</th>\n",
       "      <th>weekday_Wednesday</th>\n",
       "    </tr>\n",
       "    <tr>\n",
       "      <th>cluster_id</th>\n",
       "      <th></th>\n",
       "      <th></th>\n",
       "      <th></th>\n",
       "      <th></th>\n",
       "      <th></th>\n",
       "      <th></th>\n",
       "      <th></th>\n",
       "    </tr>\n",
       "  </thead>\n",
       "  <tbody>\n",
       "    <tr>\n",
       "      <th>0</th>\n",
       "      <td>0.144849</td>\n",
       "      <td>0.146491</td>\n",
       "      <td>0.142877</td>\n",
       "      <td>0.139779</td>\n",
       "      <td>0.140437</td>\n",
       "      <td>0.144192</td>\n",
       "      <td>0.141375</td>\n",
       "    </tr>\n",
       "    <tr>\n",
       "      <th>1</th>\n",
       "      <td>0.138708</td>\n",
       "      <td>0.144058</td>\n",
       "      <td>0.145225</td>\n",
       "      <td>0.143897</td>\n",
       "      <td>0.141403</td>\n",
       "      <td>0.145386</td>\n",
       "      <td>0.141323</td>\n",
       "    </tr>\n",
       "    <tr>\n",
       "      <th>2</th>\n",
       "      <td>0.141587</td>\n",
       "      <td>0.142006</td>\n",
       "      <td>0.145278</td>\n",
       "      <td>0.139699</td>\n",
       "      <td>0.140370</td>\n",
       "      <td>0.147712</td>\n",
       "      <td>0.143349</td>\n",
       "    </tr>\n",
       "  </tbody>\n",
       "</table>\n",
       "</div>"
      ],
      "text/plain": [
       "            weekday_Friday  weekday_Monday  weekday_Saturday  weekday_Sunday  \\\n",
       "cluster_id                                                                     \n",
       "0                 0.144849        0.146491          0.142877        0.139779   \n",
       "1                 0.138708        0.144058          0.145225        0.143897   \n",
       "2                 0.141587        0.142006          0.145278        0.139699   \n",
       "\n",
       "            weekday_Thursday  weekday_Tuesday  weekday_Wednesday  \n",
       "cluster_id                                                        \n",
       "0                   0.140437         0.144192           0.141375  \n",
       "1                   0.141403         0.145386           0.141323  \n",
       "2                   0.140370         0.147712           0.143349  "
      ]
     },
     "execution_count": 24,
     "metadata": {},
     "output_type": "execute_result"
    }
   ],
   "source": [
    "train_with_id.groupby('cluster_id').mean()[['weekday_Friday', 'weekday_Monday',\n",
    "       'weekday_Saturday', 'weekday_Sunday', 'weekday_Thursday',\n",
    "       'weekday_Tuesday', 'weekday_Wednesday']]"
   ]
  },
  {
   "cell_type": "code",
   "execution_count": 25,
   "metadata": {
    "scrolled": true
   },
   "outputs": [
    {
     "data": {
      "text/html": [
       "<div>\n",
       "<style scoped>\n",
       "    .dataframe tbody tr th:only-of-type {\n",
       "        vertical-align: middle;\n",
       "    }\n",
       "\n",
       "    .dataframe tbody tr th {\n",
       "        vertical-align: top;\n",
       "    }\n",
       "\n",
       "    .dataframe thead th {\n",
       "        text-align: right;\n",
       "    }\n",
       "</style>\n",
       "<table border=\"1\" class=\"dataframe\">\n",
       "  <thead>\n",
       "    <tr style=\"text-align: right;\">\n",
       "      <th></th>\n",
       "      <th>time_of_day_Afternoon</th>\n",
       "      <th>time_of_day_Dinner</th>\n",
       "      <th>time_of_day_Late-night</th>\n",
       "      <th>time_of_day_Morning</th>\n",
       "    </tr>\n",
       "    <tr>\n",
       "      <th>cluster_id</th>\n",
       "      <th></th>\n",
       "      <th></th>\n",
       "      <th></th>\n",
       "      <th></th>\n",
       "    </tr>\n",
       "  </thead>\n",
       "  <tbody>\n",
       "    <tr>\n",
       "      <th>0</th>\n",
       "      <td>0.278902</td>\n",
       "      <td>0.629571</td>\n",
       "      <td>0.090918</td>\n",
       "      <td>0.000610</td>\n",
       "    </tr>\n",
       "    <tr>\n",
       "      <th>1</th>\n",
       "      <td>0.000000</td>\n",
       "      <td>0.094819</td>\n",
       "      <td>0.883860</td>\n",
       "      <td>0.021321</td>\n",
       "    </tr>\n",
       "    <tr>\n",
       "      <th>2</th>\n",
       "      <td>0.762218</td>\n",
       "      <td>0.014851</td>\n",
       "      <td>0.005328</td>\n",
       "      <td>0.217603</td>\n",
       "    </tr>\n",
       "  </tbody>\n",
       "</table>\n",
       "</div>"
      ],
      "text/plain": [
       "            time_of_day_Afternoon  time_of_day_Dinner  time_of_day_Late-night  \\\n",
       "cluster_id                                                                      \n",
       "0                        0.278902            0.629571                0.090918   \n",
       "1                        0.000000            0.094819                0.883860   \n",
       "2                        0.762218            0.014851                0.005328   \n",
       "\n",
       "            time_of_day_Morning  \n",
       "cluster_id                       \n",
       "0                      0.000610  \n",
       "1                      0.021321  \n",
       "2                      0.217603  "
      ]
     },
     "execution_count": 25,
     "metadata": {},
     "output_type": "execute_result"
    }
   ],
   "source": [
    "train_with_id.groupby('cluster_id').mean()[['time_of_day_Afternoon',\n",
    "       'time_of_day_Dinner', 'time_of_day_Late-night', 'time_of_day_Morning']]"
   ]
  },
  {
   "cell_type": "code",
   "execution_count": 26,
   "metadata": {
    "scrolled": true
   },
   "outputs": [
    {
     "data": {
      "text/html": [
       "<div>\n",
       "<style scoped>\n",
       "    .dataframe tbody tr th:only-of-type {\n",
       "        vertical-align: middle;\n",
       "    }\n",
       "\n",
       "    .dataframe tbody tr th {\n",
       "        vertical-align: top;\n",
       "    }\n",
       "\n",
       "    .dataframe thead th {\n",
       "        text-align: right;\n",
       "    }\n",
       "</style>\n",
       "<table border=\"1\" class=\"dataframe\">\n",
       "  <thead>\n",
       "    <tr style=\"text-align: right;\">\n",
       "      <th></th>\n",
       "      <th>burger</th>\n",
       "      <th>fries</th>\n",
       "      <th>salad</th>\n",
       "      <th>shake</th>\n",
       "      <th>location_1</th>\n",
       "      <th>location_2</th>\n",
       "      <th>location_3</th>\n",
       "      <th>location_4</th>\n",
       "      <th>location_5</th>\n",
       "      <th>location_6</th>\n",
       "      <th>location_7</th>\n",
       "      <th>location_8</th>\n",
       "      <th>location_9</th>\n",
       "    </tr>\n",
       "    <tr>\n",
       "      <th>cluster_id</th>\n",
       "      <th></th>\n",
       "      <th></th>\n",
       "      <th></th>\n",
       "      <th></th>\n",
       "      <th></th>\n",
       "      <th></th>\n",
       "      <th></th>\n",
       "      <th></th>\n",
       "      <th></th>\n",
       "      <th></th>\n",
       "      <th></th>\n",
       "      <th></th>\n",
       "      <th></th>\n",
       "    </tr>\n",
       "  </thead>\n",
       "  <tbody>\n",
       "    <tr>\n",
       "      <th>0</th>\n",
       "      <td>3.892414</td>\n",
       "      <td>4.068739</td>\n",
       "      <td>0.176325</td>\n",
       "      <td>3.403906</td>\n",
       "      <td>0.031402</td>\n",
       "      <td>0.060537</td>\n",
       "      <td>0.031941</td>\n",
       "      <td>0.250782</td>\n",
       "      <td>0.032049</td>\n",
       "      <td>0.059350</td>\n",
       "      <td>0.247329</td>\n",
       "      <td>0.038632</td>\n",
       "      <td>0.247977</td>\n",
       "    </tr>\n",
       "    <tr>\n",
       "      <th>1</th>\n",
       "      <td>1.510392</td>\n",
       "      <td>1.575781</td>\n",
       "      <td>0.065389</td>\n",
       "      <td>0.393660</td>\n",
       "      <td>0.035209</td>\n",
       "      <td>0.352662</td>\n",
       "      <td>0.036823</td>\n",
       "      <td>0.051817</td>\n",
       "      <td>0.022872</td>\n",
       "      <td>0.351903</td>\n",
       "      <td>0.054665</td>\n",
       "      <td>0.038151</td>\n",
       "      <td>0.055898</td>\n",
       "    </tr>\n",
       "    <tr>\n",
       "      <th>2</th>\n",
       "      <td>0.390153</td>\n",
       "      <td>2.263044</td>\n",
       "      <td>1.872891</td>\n",
       "      <td>0.178109</td>\n",
       "      <td>0.186936</td>\n",
       "      <td>0.038250</td>\n",
       "      <td>0.194488</td>\n",
       "      <td>0.054923</td>\n",
       "      <td>0.187034</td>\n",
       "      <td>0.039231</td>\n",
       "      <td>0.057866</td>\n",
       "      <td>0.189192</td>\n",
       "      <td>0.052079</td>\n",
       "    </tr>\n",
       "  </tbody>\n",
       "</table>\n",
       "</div>"
      ],
      "text/plain": [
       "              burger     fries     salad     shake  location_1  location_2  \\\n",
       "cluster_id                                                                   \n",
       "0           3.892414  4.068739  0.176325  3.403906    0.031402    0.060537   \n",
       "1           1.510392  1.575781  0.065389  0.393660    0.035209    0.352662   \n",
       "2           0.390153  2.263044  1.872891  0.178109    0.186936    0.038250   \n",
       "\n",
       "            location_3  location_4  location_5  location_6  location_7  \\\n",
       "cluster_id                                                               \n",
       "0             0.031941    0.250782    0.032049    0.059350    0.247329   \n",
       "1             0.036823    0.051817    0.022872    0.351903    0.054665   \n",
       "2             0.194488    0.054923    0.187034    0.039231    0.057866   \n",
       "\n",
       "            location_8  location_9  \n",
       "cluster_id                          \n",
       "0             0.038632    0.247977  \n",
       "1             0.038151    0.055898  \n",
       "2             0.189192    0.052079  "
      ]
     },
     "execution_count": 26,
     "metadata": {},
     "output_type": "execute_result"
    }
   ],
   "source": [
    "test_with_id.groupby('cluster_id').mean()[['burger','fries','salad','shake','location_1','location_2','location_3',\n",
    "                                           'location_4','location_5','location_6','location_7','location_8','location_9']]"
   ]
  },
  {
   "cell_type": "markdown",
   "metadata": {},
   "source": [
    "## Choosing optimal K"
   ]
  },
  {
   "cell_type": "code",
   "execution_count": 27,
   "metadata": {},
   "outputs": [],
   "source": [
    "data_X_re = data_X.drop(columns=['weekday_Friday', 'weekday_Monday',\n",
    "       'weekday_Saturday', 'weekday_Sunday', 'weekday_Thursday',\n",
    "       'weekday_Tuesday', 'weekday_Wednesday'])\n",
    "train,test = model_selection.train_test_split(data_X_re, test_size=0.3, random_state = 0)\n",
    "train_scaled = minmax.fit_transform(train)\n",
    "test_scaled = minmax.fit_transform(test)\n",
    "train_scaled = pd.DataFrame(train_scaled, columns = train.columns,index= train.index)\n",
    "test_scaled = pd.DataFrame(test_scaled,columns = test.columns,index= test.index)"
   ]
  },
  {
   "cell_type": "code",
   "execution_count": 28,
   "metadata": {},
   "outputs": [
    {
     "name": "stdout",
     "output_type": "stream",
     "text": [
      "47765.84260508724\n",
      "31354.785775535707\n",
      "23834.384331972415\n",
      "21850.88481673412\n",
      "19873.38927520302\n"
     ]
    }
   ],
   "source": [
    "# elbow method\n",
    "import matplotlib.pyplot as plt\n",
    "cost = []\n",
    "for num_clusters in list(range(1,6)):\n",
    "    kproto = KPrototypes(n_clusters=num_clusters, init='Cao')\n",
    "    kproto.fit_predict(train_scaled, categorical=[4,5,6,7,8,9,10,11,12,13,14,15,16])\n",
    "    cost.append(kproto.cost_)\n",
    "    print(kproto.cost_)"
   ]
  },
  {
   "cell_type": "code",
   "execution_count": 30,
   "metadata": {},
   "outputs": [
    {
     "data": {
      "image/png": "[encoded data removed]",
      "text/plain": [
       "<Figure size 432x288 with 1 Axes>"
      ]
     },
     "metadata": {
      "needs_background": "light"
     },
     "output_type": "display_data"
    }
   ],
   "source": [
    "import matplotlib.pyplot as plt\n",
    "fig = plt.figure()\n",
    "ax = plt.axes()\n",
    "\n",
    "x = list(range(1,6))\n",
    "y = cost\n",
    "xticks=list(range(1,6))\n",
    "ticklabels = ['1','2','3','4','5']\n",
    "plt.xticks(xticks, ticklabels)\n",
    "\n",
    "ax.plot(x, y,color='blue', linestyle='dashed', marker='o',\n",
    "     markerfacecolor='black', markersize=7);"
   ]
  },
  {
   "cell_type": "markdown",
   "metadata": {},
   "source": [
    "# (Final) DataFrame with cluster_id"
   ]
  },
  {
   "cell_type": "code",
   "execution_count": 31,
   "metadata": {},
   "outputs": [],
   "source": [
    "ids_train = pd.DataFrame(clusters, index = train.index, columns=['cluster_id'])"
   ]
  },
  {
   "cell_type": "code",
   "execution_count": 32,
   "metadata": {},
   "outputs": [],
   "source": [
    "ids_test = pd.DataFrame(clusters_t, index = test.index, columns=['cluster_id'])"
   ]
  },
  {
   "cell_type": "code",
   "execution_count": 34,
   "metadata": {},
   "outputs": [
    {
     "data": {
      "text/html": [
       "<div>\n",
       "<style scoped>\n",
       "    .dataframe tbody tr th:only-of-type {\n",
       "        vertical-align: middle;\n",
       "    }\n",
       "\n",
       "    .dataframe tbody tr th {\n",
       "        vertical-align: top;\n",
       "    }\n",
       "\n",
       "    .dataframe thead th {\n",
       "        text-align: right;\n",
       "    }\n",
       "</style>\n",
       "<table border=\"1\" class=\"dataframe\">\n",
       "  <thead>\n",
       "    <tr style=\"text-align: right;\">\n",
       "      <th></th>\n",
       "      <th>ticket_id</th>\n",
       "      <th>cluster_id</th>\n",
       "    </tr>\n",
       "  </thead>\n",
       "  <tbody>\n",
       "    <tr>\n",
       "      <th>0</th>\n",
       "      <td>0x871325</td>\n",
       "      <td>1</td>\n",
       "    </tr>\n",
       "    <tr>\n",
       "      <th>1</th>\n",
       "      <td>0x8ba022</td>\n",
       "      <td>2</td>\n",
       "    </tr>\n",
       "    <tr>\n",
       "      <th>2</th>\n",
       "      <td>0x438957</td>\n",
       "      <td>2</td>\n",
       "    </tr>\n",
       "    <tr>\n",
       "      <th>3</th>\n",
       "      <td>0x399b90</td>\n",
       "      <td>1</td>\n",
       "    </tr>\n",
       "    <tr>\n",
       "      <th>4</th>\n",
       "      <td>0x779837</td>\n",
       "      <td>2</td>\n",
       "    </tr>\n",
       "  </tbody>\n",
       "</table>\n",
       "</div>"
      ],
      "text/plain": [
       "  ticket_id  cluster_id\n",
       "0  0x871325           1\n",
       "1  0x8ba022           2\n",
       "2  0x438957           2\n",
       "3  0x399b90           1\n",
       "4  0x779837           2"
      ]
     },
     "execution_count": 34,
     "metadata": {},
     "output_type": "execute_result"
    }
   ],
   "source": [
    "ids = pd.concat([ids_train, ids_test],axis=0,sort=False)\n",
    "ids.reset_index(level=0, inplace=True)\n",
    "ids.head()"
   ]
  },
  {
   "cell_type": "code",
   "execution_count": 35,
   "metadata": {},
   "outputs": [
    {
     "data": {
      "text/html": [
       "<div>\n",
       "<style scoped>\n",
       "    .dataframe tbody tr th:only-of-type {\n",
       "        vertical-align: middle;\n",
       "    }\n",
       "\n",
       "    .dataframe tbody tr th {\n",
       "        vertical-align: top;\n",
       "    }\n",
       "\n",
       "    .dataframe thead th {\n",
       "        text-align: right;\n",
       "    }\n",
       "</style>\n",
       "<table border=\"1\" class=\"dataframe\">\n",
       "  <thead>\n",
       "    <tr style=\"text-align: right;\">\n",
       "      <th></th>\n",
       "      <th>ticket_id</th>\n",
       "      <th>location</th>\n",
       "      <th>burger</th>\n",
       "      <th>fries</th>\n",
       "      <th>salad</th>\n",
       "      <th>shake</th>\n",
       "      <th>weekday</th>\n",
       "      <th>time_of_day</th>\n",
       "      <th>cluster_id</th>\n",
       "    </tr>\n",
       "  </thead>\n",
       "  <tbody>\n",
       "    <tr>\n",
       "      <th>0</th>\n",
       "      <td>0x7901ee</td>\n",
       "      <td>7</td>\n",
       "      <td>2.0</td>\n",
       "      <td>2.0</td>\n",
       "      <td>0.0</td>\n",
       "      <td>2.0</td>\n",
       "      <td>Wednesday</td>\n",
       "      <td>Dinner</td>\n",
       "      <td>1</td>\n",
       "    </tr>\n",
       "    <tr>\n",
       "      <th>1</th>\n",
       "      <td>0x12b47f</td>\n",
       "      <td>3</td>\n",
       "      <td>0.0</td>\n",
       "      <td>1.0</td>\n",
       "      <td>1.0</td>\n",
       "      <td>0.0</td>\n",
       "      <td>Wednesday</td>\n",
       "      <td>Afternoon</td>\n",
       "      <td>2</td>\n",
       "    </tr>\n",
       "    <tr>\n",
       "      <th>2</th>\n",
       "      <td>0x6d6979</td>\n",
       "      <td>6</td>\n",
       "      <td>2.0</td>\n",
       "      <td>2.0</td>\n",
       "      <td>0.0</td>\n",
       "      <td>0.0</td>\n",
       "      <td>Monday</td>\n",
       "      <td>Late-night</td>\n",
       "      <td>1</td>\n",
       "    </tr>\n",
       "    <tr>\n",
       "      <th>3</th>\n",
       "      <td>0x78dd1e</td>\n",
       "      <td>2</td>\n",
       "      <td>2.0</td>\n",
       "      <td>2.0</td>\n",
       "      <td>0.0</td>\n",
       "      <td>2.0</td>\n",
       "      <td>Sunday</td>\n",
       "      <td>Late-night</td>\n",
       "      <td>1</td>\n",
       "    </tr>\n",
       "    <tr>\n",
       "      <th>4</th>\n",
       "      <td>0x4df8ab</td>\n",
       "      <td>8</td>\n",
       "      <td>0.0</td>\n",
       "      <td>3.0</td>\n",
       "      <td>3.0</td>\n",
       "      <td>0.0</td>\n",
       "      <td>Thursday</td>\n",
       "      <td>Morning</td>\n",
       "      <td>2</td>\n",
       "    </tr>\n",
       "  </tbody>\n",
       "</table>\n",
       "</div>"
      ],
      "text/plain": [
       "  ticket_id location  burger  fries  salad  shake    weekday time_of_day  \\\n",
       "0  0x7901ee        7     2.0    2.0    0.0    2.0  Wednesday      Dinner   \n",
       "1  0x12b47f        3     0.0    1.0    1.0    0.0  Wednesday   Afternoon   \n",
       "2  0x6d6979        6     2.0    2.0    0.0    0.0     Monday  Late-night   \n",
       "3  0x78dd1e        2     2.0    2.0    0.0    2.0     Sunday  Late-night   \n",
       "4  0x4df8ab        8     0.0    3.0    3.0    0.0   Thursday     Morning   \n",
       "\n",
       "   cluster_id  \n",
       "0           1  \n",
       "1           2  \n",
       "2           1  \n",
       "3           1  \n",
       "4           2  "
      ]
     },
     "execution_count": 35,
     "metadata": {},
     "output_type": "execute_result"
    }
   ],
   "source": [
    "df_t = df.merge(ids,left_on = 'ticket_id', right_on = 'ticket_id')\n",
    "df_t.head()"
   ]
  },
  {
   "cell_type": "code",
   "execution_count": 36,
   "metadata": {
    "scrolled": true
   },
   "outputs": [
    {
     "data": {
      "text/plain": [
       "1    0.35395\n",
       "2    0.34033\n",
       "0    0.30572\n",
       "Name: cluster_id, dtype: float64"
      ]
     },
     "execution_count": 36,
     "metadata": {},
     "output_type": "execute_result"
    }
   ],
   "source": [
    "df_t.cluster_id.value_counts() / len(df)"
   ]
  },
  {
   "cell_type": "markdown",
   "metadata": {},
   "source": [
    "## Looking at each segment"
   ]
  },
  {
   "cell_type": "markdown",
   "metadata": {},
   "source": [
    "### segment 1 (mostly location 4,7,9)"
   ]
  },
  {
   "cell_type": "code",
   "execution_count": 37,
   "metadata": {},
   "outputs": [],
   "source": [
    "condition = df_t['cluster_id'] == 0\n",
    "segment1 = df_t.loc[condition,:]"
   ]
  },
  {
   "cell_type": "code",
   "execution_count": 38,
   "metadata": {
    "scrolled": true
   },
   "outputs": [
    {
     "data": {
      "text/plain": [
       "30572"
      ]
     },
     "execution_count": 38,
     "metadata": {},
     "output_type": "execute_result"
    }
   ],
   "source": [
    "segment1.ticket_id.nunique()"
   ]
  },
  {
   "cell_type": "code",
   "execution_count": 39,
   "metadata": {},
   "outputs": [
    {
     "data": {
      "text/html": [
       "<div>\n",
       "<style scoped>\n",
       "    .dataframe tbody tr th:only-of-type {\n",
       "        vertical-align: middle;\n",
       "    }\n",
       "\n",
       "    .dataframe tbody tr th {\n",
       "        vertical-align: top;\n",
       "    }\n",
       "\n",
       "    .dataframe thead th {\n",
       "        text-align: right;\n",
       "    }\n",
       "</style>\n",
       "<table border=\"1\" class=\"dataframe\">\n",
       "  <thead>\n",
       "    <tr style=\"text-align: right;\">\n",
       "      <th></th>\n",
       "      <th>ticket_id</th>\n",
       "      <th>location</th>\n",
       "      <th>burger</th>\n",
       "      <th>fries</th>\n",
       "      <th>salad</th>\n",
       "      <th>shake</th>\n",
       "      <th>weekday</th>\n",
       "      <th>time_of_day</th>\n",
       "      <th>cluster_id</th>\n",
       "    </tr>\n",
       "  </thead>\n",
       "  <tbody>\n",
       "    <tr>\n",
       "      <th>6</th>\n",
       "      <td>0x755a0b</td>\n",
       "      <td>7</td>\n",
       "      <td>3.0</td>\n",
       "      <td>4.0</td>\n",
       "      <td>1.0</td>\n",
       "      <td>3.0</td>\n",
       "      <td>Sunday</td>\n",
       "      <td>Dinner</td>\n",
       "      <td>0</td>\n",
       "    </tr>\n",
       "    <tr>\n",
       "      <th>7</th>\n",
       "      <td>0x653685</td>\n",
       "      <td>6</td>\n",
       "      <td>4.0</td>\n",
       "      <td>4.0</td>\n",
       "      <td>0.0</td>\n",
       "      <td>1.0</td>\n",
       "      <td>Wednesday</td>\n",
       "      <td>Late-night</td>\n",
       "      <td>0</td>\n",
       "    </tr>\n",
       "    <tr>\n",
       "      <th>9</th>\n",
       "      <td>0x8ade21</td>\n",
       "      <td>7</td>\n",
       "      <td>2.0</td>\n",
       "      <td>3.0</td>\n",
       "      <td>1.0</td>\n",
       "      <td>2.0</td>\n",
       "      <td>Friday</td>\n",
       "      <td>Dinner</td>\n",
       "      <td>0</td>\n",
       "    </tr>\n",
       "    <tr>\n",
       "      <th>13</th>\n",
       "      <td>0x6cfd99</td>\n",
       "      <td>9</td>\n",
       "      <td>4.0</td>\n",
       "      <td>4.0</td>\n",
       "      <td>0.0</td>\n",
       "      <td>4.0</td>\n",
       "      <td>Sunday</td>\n",
       "      <td>Dinner</td>\n",
       "      <td>0</td>\n",
       "    </tr>\n",
       "    <tr>\n",
       "      <th>14</th>\n",
       "      <td>0x5886e5</td>\n",
       "      <td>9</td>\n",
       "      <td>4.0</td>\n",
       "      <td>4.0</td>\n",
       "      <td>0.0</td>\n",
       "      <td>4.0</td>\n",
       "      <td>Friday</td>\n",
       "      <td>Dinner</td>\n",
       "      <td>0</td>\n",
       "    </tr>\n",
       "  </tbody>\n",
       "</table>\n",
       "</div>"
      ],
      "text/plain": [
       "   ticket_id location  burger  fries  salad  shake    weekday time_of_day  \\\n",
       "6   0x755a0b        7     3.0    4.0    1.0    3.0     Sunday      Dinner   \n",
       "7   0x653685        6     4.0    4.0    0.0    1.0  Wednesday  Late-night   \n",
       "9   0x8ade21        7     2.0    3.0    1.0    2.0     Friday      Dinner   \n",
       "13  0x6cfd99        9     4.0    4.0    0.0    4.0     Sunday      Dinner   \n",
       "14  0x5886e5        9     4.0    4.0    0.0    4.0     Friday      Dinner   \n",
       "\n",
       "    cluster_id  \n",
       "6            0  \n",
       "7            0  \n",
       "9            0  \n",
       "13           0  \n",
       "14           0  "
      ]
     },
     "execution_count": 39,
     "metadata": {},
     "output_type": "execute_result"
    }
   ],
   "source": [
    "segment1.head()"
   ]
  },
  {
   "cell_type": "code",
   "execution_count": 43,
   "metadata": {},
   "outputs": [
    {
     "data": {
      "text/plain": [
       "burger    3.889409\n",
       "fries     4.065354\n",
       "salad     0.175945\n",
       "shake     3.403637\n",
       "dtype: float64"
      ]
     },
     "execution_count": 43,
     "metadata": {},
     "output_type": "execute_result"
    }
   ],
   "source": [
    "segment1[['burger','fries','salad','shake']].mean()"
   ]
  },
  {
   "cell_type": "code",
   "execution_count": 44,
   "metadata": {
    "scrolled": false
   },
   "outputs": [
    {
     "data": {
      "text/plain": [
       "Dinner        19298\n",
       "Afternoon      8495\n",
       "Late-night     2753\n",
       "Morning          26\n",
       "Name: time_of_day, dtype: int64"
      ]
     },
     "execution_count": 44,
     "metadata": {},
     "output_type": "execute_result"
    }
   ],
   "source": [
    "segment1.time_of_day.value_counts()"
   ]
  },
  {
   "cell_type": "markdown",
   "metadata": {},
   "source": [
    "### segment 2 (mostly location 2,6)"
   ]
  },
  {
   "cell_type": "code",
   "execution_count": 45,
   "metadata": {},
   "outputs": [],
   "source": [
    "condition = df_t['cluster_id'] == 1\n",
    "segment2 = df_t.loc[condition,:]"
   ]
  },
  {
   "cell_type": "code",
   "execution_count": 46,
   "metadata": {},
   "outputs": [
    {
     "data": {
      "text/plain": [
       "35395"
      ]
     },
     "execution_count": 46,
     "metadata": {},
     "output_type": "execute_result"
    }
   ],
   "source": [
    "segment2.ticket_id.nunique()"
   ]
  },
  {
   "cell_type": "code",
   "execution_count": 47,
   "metadata": {},
   "outputs": [
    {
     "data": {
      "text/plain": [
       "burger    1.515129\n",
       "fries     1.579997\n",
       "salad     0.064868\n",
       "shake     0.390196\n",
       "dtype: float64"
      ]
     },
     "execution_count": 47,
     "metadata": {},
     "output_type": "execute_result"
    }
   ],
   "source": [
    "segment2[['burger','fries','salad','shake']].mean()"
   ]
  },
  {
   "cell_type": "code",
   "execution_count": 48,
   "metadata": {
    "scrolled": true
   },
   "outputs": [
    {
     "data": {
      "text/plain": [
       "Late-night    31274\n",
       "Dinner         3390\n",
       "Morning         731\n",
       "Name: time_of_day, dtype: int64"
      ]
     },
     "execution_count": 48,
     "metadata": {},
     "output_type": "execute_result"
    }
   ],
   "source": [
    "segment2.time_of_day.value_counts()"
   ]
  },
  {
   "cell_type": "markdown",
   "metadata": {},
   "source": [
    "### segment 3 (mostly location 1,3,5,8)"
   ]
  },
  {
   "cell_type": "code",
   "execution_count": 49,
   "metadata": {},
   "outputs": [],
   "source": [
    "condition = df_t['cluster_id'] == 2\n",
    "segment3 = df_t.loc[condition,:]"
   ]
  },
  {
   "cell_type": "code",
   "execution_count": 50,
   "metadata": {},
   "outputs": [
    {
     "data": {
      "text/plain": [
       "34033"
      ]
     },
     "execution_count": 50,
     "metadata": {},
     "output_type": "execute_result"
    }
   ],
   "source": [
    "segment3.ticket_id.nunique()"
   ]
  },
  {
   "cell_type": "code",
   "execution_count": 51,
   "metadata": {
    "scrolled": false
   },
   "outputs": [
    {
     "data": {
      "text/plain": [
       "Afternoon     25977\n",
       "Morning        7371\n",
       "Dinner          502\n",
       "Late-night      183\n",
       "Name: time_of_day, dtype: int64"
      ]
     },
     "execution_count": 51,
     "metadata": {},
     "output_type": "execute_result"
    }
   ],
   "source": [
    "segment3.time_of_day.value_counts()"
   ]
  },
  {
   "cell_type": "markdown",
   "metadata": {},
   "source": [
    "### 3 clusters"
   ]
  },
  {
   "cell_type": "code",
   "execution_count": 54,
   "metadata": {},
   "outputs": [],
   "source": [
    "all_encoded = pd.concat([train_with_id, train_with_id], axis=0)"
   ]
  },
  {
   "cell_type": "code",
   "execution_count": 56,
   "metadata": {},
   "outputs": [
    {
     "data": {
      "text/html": [
       "<div>\n",
       "<style scoped>\n",
       "    .dataframe tbody tr th:only-of-type {\n",
       "        vertical-align: middle;\n",
       "    }\n",
       "\n",
       "    .dataframe tbody tr th {\n",
       "        vertical-align: top;\n",
       "    }\n",
       "\n",
       "    .dataframe thead th {\n",
       "        text-align: right;\n",
       "    }\n",
       "</style>\n",
       "<table border=\"1\" class=\"dataframe\">\n",
       "  <thead>\n",
       "    <tr style=\"text-align: right;\">\n",
       "      <th></th>\n",
       "      <th>burger</th>\n",
       "      <th>fries</th>\n",
       "      <th>salad</th>\n",
       "      <th>shake</th>\n",
       "      <th>location_1</th>\n",
       "      <th>location_2</th>\n",
       "      <th>location_3</th>\n",
       "      <th>location_4</th>\n",
       "      <th>location_5</th>\n",
       "      <th>location_6</th>\n",
       "      <th>location_7</th>\n",
       "      <th>location_8</th>\n",
       "      <th>location_9</th>\n",
       "    </tr>\n",
       "    <tr>\n",
       "      <th>cluster_id</th>\n",
       "      <th></th>\n",
       "      <th></th>\n",
       "      <th></th>\n",
       "      <th></th>\n",
       "      <th></th>\n",
       "      <th></th>\n",
       "      <th></th>\n",
       "      <th></th>\n",
       "      <th></th>\n",
       "      <th></th>\n",
       "      <th></th>\n",
       "      <th></th>\n",
       "      <th></th>\n",
       "    </tr>\n",
       "  </thead>\n",
       "  <tbody>\n",
       "    <tr>\n",
       "      <th>0</th>\n",
       "      <td>3.888101</td>\n",
       "      <td>4.063882</td>\n",
       "      <td>0.175780</td>\n",
       "      <td>3.403520</td>\n",
       "      <td>0.029430</td>\n",
       "      <td>0.061300</td>\n",
       "      <td>0.031964</td>\n",
       "      <td>0.246984</td>\n",
       "      <td>0.031166</td>\n",
       "      <td>0.064633</td>\n",
       "      <td>0.246046</td>\n",
       "      <td>0.038395</td>\n",
       "      <td>0.250082</td>\n",
       "    </tr>\n",
       "    <tr>\n",
       "      <th>1</th>\n",
       "      <td>1.517137</td>\n",
       "      <td>1.581785</td>\n",
       "      <td>0.064647</td>\n",
       "      <td>0.388728</td>\n",
       "      <td>0.035482</td>\n",
       "      <td>0.353407</td>\n",
       "      <td>0.037573</td>\n",
       "      <td>0.051935</td>\n",
       "      <td>0.029005</td>\n",
       "      <td>0.348660</td>\n",
       "      <td>0.053343</td>\n",
       "      <td>0.037453</td>\n",
       "      <td>0.053142</td>\n",
       "    </tr>\n",
       "    <tr>\n",
       "      <th>2</th>\n",
       "      <td>0.388933</td>\n",
       "      <td>2.250157</td>\n",
       "      <td>1.861224</td>\n",
       "      <td>0.179385</td>\n",
       "      <td>0.188279</td>\n",
       "      <td>0.039980</td>\n",
       "      <td>0.186097</td>\n",
       "      <td>0.054495</td>\n",
       "      <td>0.191887</td>\n",
       "      <td>0.041029</td>\n",
       "      <td>0.055586</td>\n",
       "      <td>0.189579</td>\n",
       "      <td>0.053069</td>\n",
       "    </tr>\n",
       "  </tbody>\n",
       "</table>\n",
       "</div>"
      ],
      "text/plain": [
       "              burger     fries     salad     shake  location_1  location_2  \\\n",
       "cluster_id                                                                   \n",
       "0           3.888101  4.063882  0.175780  3.403520    0.029430    0.061300   \n",
       "1           1.517137  1.581785  0.064647  0.388728    0.035482    0.353407   \n",
       "2           0.388933  2.250157  1.861224  0.179385    0.188279    0.039980   \n",
       "\n",
       "            location_3  location_4  location_5  location_6  location_7  \\\n",
       "cluster_id                                                               \n",
       "0             0.031964    0.246984    0.031166    0.064633    0.246046   \n",
       "1             0.037573    0.051935    0.029005    0.348660    0.053343   \n",
       "2             0.186097    0.054495    0.191887    0.041029    0.055586   \n",
       "\n",
       "            location_8  location_9  \n",
       "cluster_id                          \n",
       "0             0.038395    0.250082  \n",
       "1             0.037453    0.053142  \n",
       "2             0.189579    0.053069  "
      ]
     },
     "execution_count": 56,
     "metadata": {},
     "output_type": "execute_result"
    }
   ],
   "source": [
    "all_encoded.groupby('cluster_id').mean()[['burger','fries','salad','shake','location_1','location_2','location_3',\n",
    "                                           'location_4','location_5','location_6','location_7','location_8','location_9']]"
   ]
  }
 ],
 "metadata": {
  "kernelspec": {
   "display_name": "local-venv",
   "language": "python",
   "name": "local-venv"
  },
  "language_info": {
   "codemirror_mode": {
    "name": "ipython",
    "version": 3
   },
   "file_extension": ".py",
   "mimetype": "text/x-python",
   "name": "python",
   "nbconvert_exporter": "python",
   "pygments_lexer": "ipython3",
   "version": "3.7.3"
  }
 },
 "nbformat": 4,
 "nbformat_minor": 2
}
